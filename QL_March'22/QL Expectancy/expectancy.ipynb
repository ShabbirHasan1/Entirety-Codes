{
 "cells": [
  {
   "cell_type": "markdown",
   "id": "c584eda1",
   "metadata": {},
   "source": [
    "Select a number between 1-100.\n",
    "\n",
    "If you win you get 90 rupees + 1 rupee that you bet, else you lose 1 rupee."
   ]
  },
  {
   "cell_type": "code",
   "execution_count": 1,
   "id": "c6b7e962",
   "metadata": {},
   "outputs": [],
   "source": [
    "pro_win = 1/100"
   ]
  },
  {
   "cell_type": "code",
   "execution_count": 2,
   "id": "625a625b",
   "metadata": {},
   "outputs": [],
   "source": [
    "pro_los = 1- pro_win"
   ]
  },
  {
   "cell_type": "code",
   "execution_count": 3,
   "id": "51058374",
   "metadata": {},
   "outputs": [
    {
     "data": {
      "text/plain": [
       "0.01"
      ]
     },
     "execution_count": 3,
     "metadata": {},
     "output_type": "execute_result"
    }
   ],
   "source": [
    "pro_win"
   ]
  },
  {
   "cell_type": "code",
   "execution_count": 4,
   "id": "8f5ed674",
   "metadata": {},
   "outputs": [
    {
     "data": {
      "text/plain": [
       "0.99"
      ]
     },
     "execution_count": 4,
     "metadata": {},
     "output_type": "execute_result"
    }
   ],
   "source": [
    "pro_los"
   ]
  },
  {
   "cell_type": "code",
   "execution_count": null,
   "id": "e07a063b",
   "metadata": {},
   "outputs": [],
   "source": [
    "1,5,40,60"
   ]
  },
  {
   "cell_type": "markdown",
   "id": "2543bc5a",
   "metadata": {},
   "source": [
    "probability_of_win * average_win + probability_of_loss * average_loss"
   ]
  },
  {
   "cell_type": "code",
   "execution_count": 5,
   "id": "c1d17343",
   "metadata": {},
   "outputs": [],
   "source": [
    "average_win = 90\n",
    "average_loss = -1"
   ]
  },
  {
   "cell_type": "code",
   "execution_count": 8,
   "id": "111fd951",
   "metadata": {
    "scrolled": false
   },
   "outputs": [
    {
     "data": {
      "text/plain": [
       "-0.08999999999999997"
      ]
     },
     "execution_count": 8,
     "metadata": {},
     "output_type": "execute_result"
    }
   ],
   "source": [
    "pro_win * average_win + pro_los*average_loss"
   ]
  }
 ],
 "metadata": {
  "kernelspec": {
   "display_name": "Python 3 (ipykernel)",
   "language": "python",
   "name": "python3"
  },
  "language_info": {
   "codemirror_mode": {
    "name": "ipython",
    "version": 3
   },
   "file_extension": ".py",
   "mimetype": "text/x-python",
   "name": "python",
   "nbconvert_exporter": "python",
   "pygments_lexer": "ipython3",
   "version": "3.10.0"
  }
 },
 "nbformat": 4,
 "nbformat_minor": 5
}
